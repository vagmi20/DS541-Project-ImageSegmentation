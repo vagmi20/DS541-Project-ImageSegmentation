{
 "cells": [
  {
   "cell_type": "code",
   "execution_count": 1,
   "metadata": {},
   "outputs": [],
   "source": [
    "import numpy as np \n",
    "import pandas as pd\n",
    "import matplotlib.pyplot as plt\n",
    "from sklearn import tree\n",
    "import cv2 \n",
    "import os \n",
    "from random import shuffle \n",
    "from tqdm import tqdm \n",
    "from PIL import Image\n",
    "\n",
    "from sklearn.ensemble import RandomForestClassifier\n",
    "from sklearn.model_selection import GridSearchCV, train_test_split\n",
    "from sklearn.metrics import accuracy_score, classification_report, root_mean_squared_error, confusion_matrix\n",
    "import seaborn as sns\n",
    "\n",
    "import warnings\n",
    "warnings.filterwarnings('ignore')\n",
    "import os"
   ]
  },
  {
   "cell_type": "code",
   "execution_count": 2,
   "metadata": {},
   "outputs": [],
   "source": [
    "prune_filtered_data = pd.read_csv(\"Filtered_Data_Entry_DS541.csv\")"
   ]
  },
  {
   "cell_type": "code",
   "execution_count": 3,
   "metadata": {},
   "outputs": [],
   "source": [
    "train_images = \"../data/CXR8/images/train_val_images\"\n",
    "\n",
    "test_images = \"../data/CXR8/images/test_images\"\n"
   ]
  },
  {
   "cell_type": "code",
   "execution_count": 32,
   "metadata": {},
   "outputs": [],
   "source": [
    "label_columns = ['Atelectasis', 'Cardiomegaly', 'Consolidation',\n",
    "       'Edema', 'Effusion', 'Emphysema', 'Fibrosis', 'Hernia', 'Infiltration',\n",
    "       'Mass', 'Nodule', 'Pleural Thickening', 'Pneumonia', 'Pneumothorax',\n",
    "       'Pneumoperitoneum', 'Pneumomediastinum', 'Subcutaneous Emphysema',\n",
    "       'Tortuous Aorta', 'Calcification of the Aorta', 'No Finding',]"
   ]
  },
  {
   "cell_type": "code",
   "execution_count": 33,
   "metadata": {},
   "outputs": [],
   "source": [
    "label_map = {label: i for i, label in enumerate(label_columns)}"
   ]
  },
  {
   "cell_type": "code",
   "execution_count": 34,
   "metadata": {},
   "outputs": [],
   "source": [
    "def train_test_preprocess_data(image_size):\n",
    "    train_data = []\n",
    "    train_labels = []\n",
    "\n",
    "    test_data = []\n",
    "    test_labels = []\n",
    "\n",
    "    for image1 in tqdm(os.listdir(train_images)): \n",
    "        path = os.path.join(train_images, image1)\n",
    "        img1 = cv2.imread(path, cv2.IMREAD_GRAYSCALE) \n",
    "        img1 = cv2.resize(img1, (image_size, image_size))\n",
    "        train_data.append(img1)\n",
    "        train_labels.append(prune_filtered_data[prune_filtered_data['id'] == image1][label_columns].to_numpy())\n",
    "    \n",
    "    for image2 in tqdm(os.listdir(test_images)): \n",
    "        path = os.path.join(test_images, image2)\n",
    "        img2 = cv2.imread(path, cv2.IMREAD_GRAYSCALE) \n",
    "        img2 = cv2.resize(img2, (image_size, image_size))\n",
    "        test_data.append(img2)\n",
    "        test_labels.append(prune_filtered_data[prune_filtered_data['id'] == image2][label_columns].to_numpy()) \n",
    "    \n",
    "    return train_data, np.array(train_labels), test_data, np.array(test_labels)"
   ]
  },
  {
   "cell_type": "code",
   "execution_count": null,
   "metadata": {},
   "outputs": [],
   "source": [
    "train_data, train_labels, test_data, test_labels = train_test_preprocess_data(image_size = 256)"
   ]
  },
  {
   "cell_type": "code",
   "execution_count": 8,
   "metadata": {},
   "outputs": [],
   "source": [
    "x_data=np.concatenate((train_data,test_data),axis=0)\n",
    "\n",
    "# #min-max scaling\n",
    "# x_data = (x_data-np.min(x_data))/(np.max(x_data)-np.min(x_data))"
   ]
  },
  {
   "cell_type": "code",
   "execution_count": 9,
   "metadata": {},
   "outputs": [],
   "source": [
    "y_data=np.concatenate((train_labels,test_labels),axis=0)"
   ]
  },
  {
   "cell_type": "code",
   "execution_count": 11,
   "metadata": {},
   "outputs": [],
   "source": [
    "y_data = y_data.reshape(30805, len(label_columns))"
   ]
  },
  {
   "cell_type": "code",
   "execution_count": 12,
   "metadata": {},
   "outputs": [],
   "source": [
    "x_train, x_test, y_train, y_test = train_test_split(x_data, y_data, test_size=0.15, random_state=42)\n",
    "number_of_train = x_train.shape[0]\n",
    "number_of_test = x_test.shape[0]"
   ]
  },
  {
   "cell_type": "code",
   "execution_count": null,
   "metadata": {},
   "outputs": [],
   "source": [
    "x_train_flatten = x_train.reshape(number_of_train,x_train.shape[1]*x_train.shape[2])\n",
    "x_test_flatten = x_test .reshape(number_of_test,x_test.shape[1]*x_test.shape[2])\n",
    "print(\"X train flatten\",x_train_flatten.shape)\n",
    "print(\"X test flatten\",x_test_flatten.shape)"
   ]
  },
  {
   "cell_type": "code",
   "execution_count": 14,
   "metadata": {},
   "outputs": [],
   "source": [
    "def decision_tree(max_depth, x_train_flatten, y_train, x_test_flatten):\n",
    "    print(\"\\nCreating decision tree max_depth=\" + str(max_depth))\n",
    "    model = tree.DecisionTreeClassifier(max_depth=max_depth, class_weight='balanced')\n",
    "    model.fit(x_train_flatten, y_train)\n",
    "    print(\"Done \")\n",
    "    y_pred = model.predict(x_test_flatten)\n",
    "\n",
    "    return y_pred"
   ]
  },
  {
   "cell_type": "code",
   "execution_count": 15,
   "metadata": {},
   "outputs": [],
   "source": [
    "def random_forest(estimators, x_train_flatten, y_train, x_test_flatten):\n",
    "    model = RandomForestClassifier(n_estimators=estimators, class_weight='balanced')\n",
    "    model.fit(x_train_flatten, y_train)\n",
    "    print(\"Done \")\n",
    "    y_pred = model.predict(x_test_flatten)\n",
    "    \n",
    "    return y_pred"
   ]
  },
  {
   "cell_type": "code",
   "execution_count": null,
   "metadata": {},
   "outputs": [],
   "source": [
    "dt_y_pred = decision_tree(3, x_train_flatten, y_train, x_test_flatten)\n"
   ]
  },
  {
   "cell_type": "code",
   "execution_count": null,
   "metadata": {},
   "outputs": [],
   "source": [
    "rf_y_pred = random_forest(50, x_train_flatten, y_train, x_test_flatten)\n"
   ]
  },
  {
   "cell_type": "code",
   "execution_count": null,
   "metadata": {},
   "outputs": [],
   "source": [
    "print(\"Unique classes in true labels:\", np.unique(y_test.argmax(axis=1)))\n",
    "print(\"Unique classes in predictions:\", np.unique(dt_y_pred.argmax(axis=1)))\n",
    "\n",
    "dt_cm = confusion_matrix(y_test.argmax(axis=1), dt_y_pred.argmax(axis=1))"
   ]
  },
  {
   "cell_type": "code",
   "execution_count": null,
   "metadata": {},
   "outputs": [],
   "source": [
    "class_names = list(label_map.keys())\n",
    "\n",
    "true_labeled_classes = [class_names[i] for i in range(len(class_names))]\n",
    "\n",
    "plt.figure(figsize=(12, 12))\n",
    "sns.heatmap(dt_cm, annot=True, fmt=\"d\", xticklabels=true_labeled_classes, yticklabels=true_labeled_classes, cmap=\"Blues\")\n",
    "plt.xlabel(\"Predicted Labels\")\n",
    "plt.ylabel(\"True Labels\")\n",
    "plt.title(\"Decision Tree Confusion Matrix\")\n",
    "plt.show()"
   ]
  },
  {
   "cell_type": "code",
   "execution_count": null,
   "metadata": {},
   "outputs": [],
   "source": [
    "print(\"Unique classes in true labels:\", np.unique(y_test.argmax(axis=1)))\n",
    "print(\"Unique classes in predictions:\", np.unique(rf_y_pred.argmax(axis=1)))\n",
    "\n",
    "rf_cm = confusion_matrix(y_test.argmax(axis=1), rf_y_pred.argmax(axis=1))"
   ]
  },
  {
   "cell_type": "code",
   "execution_count": null,
   "metadata": {},
   "outputs": [],
   "source": [
    "class_names = list(label_map.keys())\n",
    "\n",
    "true_labeled_classes = [class_names[i] for i in range(len(class_names))]\n",
    "\n",
    "plt.figure(figsize=(12, 12))\n",
    "sns.heatmap(rf_cm, annot=True, fmt=\"d\", xticklabels=true_labeled_classes, yticklabels=true_labeled_classes, cmap=\"Blues\")\n",
    "plt.xlabel(\"Predicted Labels\")\n",
    "plt.ylabel(\"True Labels\")\n",
    "plt.title(\"Random Forest Confusion Matrix\")\n",
    "plt.show()"
   ]
  },
  {
   "cell_type": "code",
   "execution_count": null,
   "metadata": {},
   "outputs": [],
   "source": [
    "print(root_mean_squared_error(y_test, rf_y_pred))\n",
    "print(accuracy_score(y_test, rf_y_pred))\n"
   ]
  },
  {
   "cell_type": "code",
   "execution_count": null,
   "metadata": {},
   "outputs": [],
   "source": [
    "print(classification_report(y_test, dt_y_pred))"
   ]
  },
  {
   "cell_type": "code",
   "execution_count": null,
   "metadata": {},
   "outputs": [],
   "source": [
    "print(root_mean_squared_error(y_test, dt_y_pred))\n",
    "print(accuracy_score(y_test, dt_y_pred, normalize=True))\n"
   ]
  }
 ],
 "metadata": {
  "kernelspec": {
   "display_name": "image_env",
   "language": "python",
   "name": "python3"
  },
  "language_info": {
   "codemirror_mode": {
    "name": "ipython",
    "version": 3
   },
   "file_extension": ".py",
   "mimetype": "text/x-python",
   "name": "python",
   "nbconvert_exporter": "python",
   "pygments_lexer": "ipython3",
   "version": "3.11.3"
  }
 },
 "nbformat": 4,
 "nbformat_minor": 2
}
